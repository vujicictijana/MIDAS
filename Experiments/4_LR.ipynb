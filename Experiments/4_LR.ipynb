{
 "cells": [
  {
   "cell_type": "code",
   "execution_count": 1,
   "outputs": [],
   "source": [
    "import pandas as pd\n",
    "from sklearn.linear_model import LogisticRegression\n",
    "import numpy as np\n",
    "import time\n",
    "import bz2\n",
    "import _pickle as cPickle\n",
    "\n",
    "my_os = \"mac\" #win mac\n",
    "\n",
    "separator = \"\\\\\"\n",
    "\n",
    "if my_os == \"mac\":\n",
    "    separator = \"//\"\n",
    "\n",
    "mode = \"B\"\n",
    "# empty, B, C\n",
    "\n",
    "type = \"AD\"\n",
    "# AD, AC\n",
    "\n",
    "file_name = \"algorithms\" + separator + \"LR_\" + type\n",
    "\n",
    "if mode == \"A\":\n",
    "    df_train = pd.read_pickle(\"data\" + separator + \"train1.pkl\")\n",
    "    df_train = pd.concat([df_train, pd.read_pickle(\"data\" + separator + \"train2.pkl\")])\n",
    "    df_train = pd.concat([df_train, pd.read_pickle(\"data\" + separator + \"train3.pkl\")])\n",
    "    df_train = pd.concat([df_train, pd.read_pickle(\"data\" + separator + \"train4.pkl\")])\n",
    "    df_train = pd.concat([df_train, pd.read_pickle(\"data\" + separator + \"train5.pkl\")])\n",
    "\n",
    "if mode == \"B\" or mode == \"C\":\n",
    "    file_name = file_name + \"_\" + mode\n",
    "    df_train = pd.read_pickle(\"data\" + separator + \"train1_\" + mode + \".pkl\")\n",
    "    df_train = pd.concat([df_train, pd.read_pickle(\"data\" + separator + \"train2_\" + mode + \".pkl\")])\n",
    "    df_train = pd.concat([df_train, pd.read_pickle(\"data\" + separator + \"train3_\" + mode + \".pkl\")])\n",
    "    df_train = pd.concat([df_train, pd.read_pickle(\"data\" + separator + \"train4_\" + mode + \".pkl\")])\n",
    "    df_train = pd.concat([df_train, pd.read_pickle(\"data\" + separator + \"train5_\" + mode + \".pkl\")])\n",
    "\n",
    "\n",
    "y_train = df_train['Anomaly']\n",
    "X_train = df_train.drop(['Anomaly'],axis= 1)\n",
    "\n",
    "y_train=y_train.astype('int')\n",
    "\n",
    "if type == \"AD\":\n",
    "    y_train = y_train.replace(2,1);\n",
    "    y_train  = y_train.replace(3,1);\n",
    "\n",
    "\n",
    "result = \"\"\n",
    "logisticRegr = LogisticRegression(max_iter=1000)\n",
    "start_time = time.time()\n",
    "logisticRegr.fit(X_train, y_train)\n",
    "my_time = (time.time() - start_time)\n",
    "\n",
    "f = bz2.BZ2File(file_name + \".pbz2\", \"wb\")\n",
    "cPickle.dump((logisticRegr),f)\n",
    "f.close()\n",
    "\n",
    "result = \"LR: \" +\"\\nTime train (s): \" + str(my_time)\n",
    "\n",
    "f1 = open(file_name +  \".txt\", \"w\")\n",
    "f1.write(result)\n",
    "f1.close()"
   ],
   "metadata": {
    "collapsed": false,
    "pycharm": {
     "name": "#%%\n"
    }
   }
  }
 ],
 "metadata": {
  "kernelspec": {
   "display_name": "Python 3 (ipykernel)",
   "language": "python",
   "name": "python3"
  },
  "language_info": {
   "codemirror_mode": {
    "name": "ipython",
    "version": 3
   },
   "file_extension": ".py",
   "mimetype": "text/x-python",
   "name": "python",
   "nbconvert_exporter": "python",
   "pygments_lexer": "ipython3",
   "version": "3.9.7"
  }
 },
 "nbformat": 4,
 "nbformat_minor": 5
}