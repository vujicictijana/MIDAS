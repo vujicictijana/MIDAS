{
 "cells": [
  {
   "cell_type": "code",
   "execution_count": 4,
   "outputs": [
    {
     "name": "stdout",
     "output_type": "stream",
     "text": [
      "DT_AC 0.23146980755166663\n"
     ]
    }
   ],
   "source": [
    "import pandas as pd\n",
    "import numpy as np\n",
    "import time\n",
    "import bz2\n",
    "import _pickle as cPickle\n",
    "from sklearn.metrics import accuracy_score\n",
    "from sklearn.metrics import confusion_matrix\n",
    "from sklearn.metrics import precision_recall_fscore_support\n",
    "\n",
    "my_os = \"mac\" #win mac\n",
    "\n",
    "separator = \"\\\\\"\n",
    "\n",
    "if my_os == \"mac\":\n",
    "    separator = \"//\"\n",
    "\n",
    "mode = \"B\"\n",
    "# empty, B, C\n",
    "\n",
    "type = \"AC\"\n",
    "# AD, AC\n",
    "\n",
    "al = \"DT_\" + type\n",
    "\n",
    "file_name = \"algorithms\" + separator + al\n",
    "\n",
    "if mode == \"A\":\n",
    "    df_test = pd.read_pickle(\"data\" + separator + \"test1.pkl\")\n",
    "    df_test = pd.concat([df_test, pd.read_pickle(\"data\" + separator + \"test2.pkl\")])\n",
    "    df_test = pd.concat([df_test, pd.read_pickle(\"data\" + separator + \"test3.pkl\")])\n",
    "    df_test = pd.concat([df_test, pd.read_pickle(\"data\" + separator + \"test4.pkl\")])\n",
    "\n",
    "if mode == \"B\" or mode == \"C\":\n",
    "    file_name = file_name + \"_\" + mode\n",
    "    df_test = pd.read_pickle(\"data\" + separator + \"test1_\" + mode + \".pkl\")\n",
    "    df_test = pd.concat([df_test, pd.read_pickle(\"data\" + separator + \"test2_\" + mode + \".pkl\")])\n",
    "    df_test = pd.concat([df_test, pd.read_pickle(\"data\" + separator + \"test3_\" + mode + \".pkl\")])\n",
    "    df_test = pd.concat([df_test, pd.read_pickle(\"data\" + separator + \"test4_\" + mode + \".pkl\")])\n",
    "\n",
    "y_test = df_test['Anomaly']\n",
    "X_test = df_test.drop(['Anomaly'],axis= 1)\n",
    "X_test = X_test.replace((np.inf, -np.inf, np.nan), 0).reset_index(drop=True)\n",
    "\n",
    "\n",
    "y_test=y_test.astype('int')\n",
    "\n",
    "\n",
    "if type == \"AD\":\n",
    "    y_test = y_test.replace(2,1);\n",
    "    y_test  = y_test.replace(3,1);\n",
    "\n",
    "y_test = y_test.array\n",
    "result = \"\"\n",
    "\n",
    "f = bz2.BZ2File(file_name+\".pbz2\", \"rb\")\n",
    "algorithm = cPickle.load(f)\n",
    "f.close()\n",
    "\n",
    "start_time = time.time()\n",
    "prediction = algorithm.predict(X_test)\n",
    "my_time1 = (time.time() - start_time)\n",
    "accuracy = accuracy_score(prediction, y_test)\n",
    "print(al, accuracy)\n",
    "# print(classification_report(y_test, prediction))\n",
    "\n",
    "prediction = prediction.reshape(-1, 1)\n",
    "y_test = y_test.reshape(-1, 1)\n",
    "\n",
    "precision, recall, fscore, support = precision_recall_fscore_support(y_test, prediction)\n",
    "\n",
    "cm = confusion_matrix(y_test, prediction)\n",
    "\n",
    "result = \"\\nTesting:\\nAccuracy: \" +  str(accuracy) +\"\\nPrecision: \" + str(precision) + \"\\nrecall: \" + str(recall)+ \"\\nfscore: \" + str(fscore) + \"\\nsupport: \" + str(support) + \"\\nConfusion matrix:\\n\" + str(cm) +  \"\\nTime test (s): \" + str(my_time1)\n",
    "f1 = open(file_name+\".txt\", \"a\")\n",
    "f1.write(result)\n",
    "f1.close()"
   ],
   "metadata": {
    "collapsed": false,
    "pycharm": {
     "name": "#%%\n"
    }
   }
  }
 ],
 "metadata": {
  "kernelspec": {
   "display_name": "Python 3 (ipykernel)",
   "language": "python",
   "name": "python3"
  },
  "language_info": {
   "codemirror_mode": {
    "name": "ipython",
    "version": 3
   },
   "file_extension": ".py",
   "mimetype": "text/x-python",
   "name": "python",
   "nbconvert_exporter": "python",
   "pygments_lexer": "ipython3",
   "version": "3.9.7"
  }
 },
 "nbformat": 4,
 "nbformat_minor": 5
}